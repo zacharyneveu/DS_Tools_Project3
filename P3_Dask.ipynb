{
 "cells": [
  {
   "cell_type": "code",
   "execution_count": 1,
   "metadata": {
    "Collapsed": "false"
   },
   "outputs": [
    {
     "data": {
      "text/html": [
       "<table style=\"border: 2px solid white;\">\n",
       "<tr>\n",
       "<td style=\"vertical-align: top; border: 0px solid white\">\n",
       "<h3 style=\"text-align: left;\">Client</h3>\n",
       "<ul style=\"text-align: left; list-style: none; margin: 0; padding: 0;\">\n",
       "  <li><b>Scheduler: </b>tcp://127.0.0.1:38009</li>\n",
       "  <li><b>Dashboard: </b><a href='http://127.0.0.1:8787/status' target='_blank'>http://127.0.0.1:8787/status</a>\n",
       "</ul>\n",
       "</td>\n",
       "<td style=\"vertical-align: top; border: 0px solid white\">\n",
       "<h3 style=\"text-align: left;\">Cluster</h3>\n",
       "<ul style=\"text-align: left; list-style:none; margin: 0; padding: 0;\">\n",
       "  <li><b>Workers: </b>4</li>\n",
       "  <li><b>Cores: </b>8</li>\n",
       "  <li><b>Memory: </b>16.00 GB</li>\n",
       "</ul>\n",
       "</td>\n",
       "</tr>\n",
       "</table>"
      ],
      "text/plain": [
       "<Client: 'tcp://127.0.0.1:38009' processes=4 threads=8, memory=16.00 GB>"
      ]
     },
     "execution_count": 1,
     "metadata": {},
     "output_type": "execute_result"
    }
   ],
   "source": [
    "from dask.distributed import Client, progress\n",
    "client = Client(n_workers=4, threads_per_worker=2, memory_limit='4GB')\n",
    "client"
   ]
  },
  {
   "cell_type": "code",
   "execution_count": 2,
   "metadata": {
    "Collapsed": "false"
   },
   "outputs": [],
   "source": [
    "import dask\n",
    "import pandas as pd\n",
    "import dask.dataframe as dd\n",
    "from pathlib import Path"
   ]
  },
  {
   "cell_type": "code",
   "execution_count": 3,
   "metadata": {
    "Collapsed": "false"
   },
   "outputs": [],
   "source": [
    "%matplotlib inline\n",
    "import matplotlib\n",
    "import matplotlib.pyplot as plt"
   ]
  },
  {
   "cell_type": "code",
   "execution_count": 4,
   "metadata": {
    "Collapsed": "false"
   },
   "outputs": [],
   "source": [
    "plt.style.use('seaborn')  # Just changes plotting theme, comment out if annoying\\n\n",
    "matplotlib.rcParams['figure.figsize'] = [14, 8]"
   ]
  },
  {
   "cell_type": "code",
   "execution_count": 5,
   "metadata": {
    "Collapsed": "false"
   },
   "outputs": [],
   "source": [
    "data_p = Path('/home/zach/Downloads')"
   ]
  },
  {
   "cell_type": "code",
   "execution_count": 6,
   "metadata": {
    "Collapsed": "false"
   },
   "outputs": [],
   "source": [
    "listings = dd.read_parquet(data_p/'listings2.parquet')"
   ]
  },
  {
   "cell_type": "code",
   "execution_count": 7,
   "metadata": {
    "Collapsed": "false"
   },
   "outputs": [
    {
     "data": {
      "text/plain": [
       "755"
      ]
     },
     "execution_count": 7,
     "metadata": {},
     "output_type": "execute_result"
    }
   ],
   "source": [
    "listings.npartitions"
   ]
  },
  {
   "cell_type": "code",
   "execution_count": 11,
   "metadata": {
    "Collapsed": "false"
   },
   "outputs": [],
   "source": [
    "boston = listings[listings.city == 'Boston']"
   ]
  },
  {
   "cell_type": "code",
   "execution_count": 17,
   "metadata": {
    "Collapsed": "false"
   },
   "outputs": [
    {
     "data": {
      "text/html": [
       "<div>\n",
       "<style scoped>\n",
       "    .dataframe tbody tr th:only-of-type {\n",
       "        vertical-align: middle;\n",
       "    }\n",
       "\n",
       "    .dataframe tbody tr th {\n",
       "        vertical-align: top;\n",
       "    }\n",
       "\n",
       "    .dataframe thead th {\n",
       "        text-align: right;\n",
       "    }\n",
       "</style>\n",
       "<table border=\"1\" class=\"dataframe\">\n",
       "  <thead>\n",
       "    <tr style=\"text-align: right;\">\n",
       "      <th></th>\n",
       "      <th>id</th>\n",
       "      <th>listing_url</th>\n",
       "      <th>scrape_id</th>\n",
       "      <th>last_scraped</th>\n",
       "      <th>name</th>\n",
       "      <th>summary</th>\n",
       "      <th>space</th>\n",
       "      <th>description</th>\n",
       "      <th>experiences_offered</th>\n",
       "      <th>neighborhood_overview</th>\n",
       "      <th>...</th>\n",
       "      <th>is_business_travel_ready</th>\n",
       "      <th>cancellation_policy</th>\n",
       "      <th>require_guest_profile_picture</th>\n",
       "      <th>require_guest_phone_verification</th>\n",
       "      <th>calculated_host_listings_count</th>\n",
       "      <th>calculated_host_listings_count_entire_homes</th>\n",
       "      <th>calculated_host_listings_count_private_rooms</th>\n",
       "      <th>calculated_host_listings_count_shared_rooms</th>\n",
       "      <th>reviews_per_month</th>\n",
       "      <th>property_type</th>\n",
       "    </tr>\n",
       "  </thead>\n",
       "  <tbody>\n",
       "    <tr>\n",
       "      <td>23562</td>\n",
       "      <td>3781</td>\n",
       "      <td>https://www.airbnb.com/rooms/3781</td>\n",
       "      <td>20190922191643</td>\n",
       "      <td>2019-09-22</td>\n",
       "      <td>HARBORSIDE-Walk to subway</td>\n",
       "      <td>Fully separate apartment in a two apartment bu...</td>\n",
       "      <td>This is a totally separate apartment located o...</td>\n",
       "      <td>Fully separate apartment in a two apartment bu...</td>\n",
       "      <td>none</td>\n",
       "      <td>Mostly quiet ( no loud music, no crowed sidewa...</td>\n",
       "      <td>...</td>\n",
       "      <td>f</td>\n",
       "      <td>super_strict_30</td>\n",
       "      <td>f</td>\n",
       "      <td>f</td>\n",
       "      <td>2</td>\n",
       "      <td>2</td>\n",
       "      <td>0</td>\n",
       "      <td>0</td>\n",
       "      <td>0.29</td>\n",
       "      <td>Apartment</td>\n",
       "    </tr>\n",
       "    <tr>\n",
       "      <td>23564</td>\n",
       "      <td>6976</td>\n",
       "      <td>https://www.airbnb.com/rooms/6976</td>\n",
       "      <td>20190922191643</td>\n",
       "      <td>2019-09-22</td>\n",
       "      <td>Mexican Folk Art Showcase in Boston Neighborhood</td>\n",
       "      <td>Come stay with me in Boston's Roslindale neigh...</td>\n",
       "      <td>This is a well-maintained, two-family house bu...</td>\n",
       "      <td>Come stay with me in Boston's Roslindale neigh...</td>\n",
       "      <td>none</td>\n",
       "      <td>The LOCATION: Roslindale is a safe and diverse...</td>\n",
       "      <td>...</td>\n",
       "      <td>f</td>\n",
       "      <td>moderate</td>\n",
       "      <td>t</td>\n",
       "      <td>f</td>\n",
       "      <td>1</td>\n",
       "      <td>0</td>\n",
       "      <td>1</td>\n",
       "      <td>0</td>\n",
       "      <td>0.67</td>\n",
       "      <td>Apartment</td>\n",
       "    </tr>\n",
       "    <tr>\n",
       "      <td>23566</td>\n",
       "      <td>8789</td>\n",
       "      <td>https://www.airbnb.com/rooms/8789</td>\n",
       "      <td>20190922191643</td>\n",
       "      <td>2019-09-22</td>\n",
       "      <td>Curved Glass Studio/1bd facing Park</td>\n",
       "      <td>Bright, 1 bed with curved glass windows facing...</td>\n",
       "      <td>Fully Furnished studio with enclosed bedroom. ...</td>\n",
       "      <td>Bright, 1 bed with curved glass windows facing...</td>\n",
       "      <td>none</td>\n",
       "      <td>Beacon Hill is a historic neighborhood filled ...</td>\n",
       "      <td>...</td>\n",
       "      <td>f</td>\n",
       "      <td>strict_14_with_grace_period</td>\n",
       "      <td>f</td>\n",
       "      <td>f</td>\n",
       "      <td>10</td>\n",
       "      <td>10</td>\n",
       "      <td>0</td>\n",
       "      <td>0</td>\n",
       "      <td>0.37</td>\n",
       "      <td>Apartment</td>\n",
       "    </tr>\n",
       "    <tr>\n",
       "      <td>23568</td>\n",
       "      <td>9273</td>\n",
       "      <td>https://www.airbnb.com/rooms/9273</td>\n",
       "      <td>20190922191643</td>\n",
       "      <td>2019-09-22</td>\n",
       "      <td>Stay at \"HARBORVIEW\" Walk to subway</td>\n",
       "      <td>None</td>\n",
       "      <td>Available $200.00 per night/seven night minim...</td>\n",
       "      <td>Available $200.00 per night/seven night minim...</td>\n",
       "      <td>none</td>\n",
       "      <td>None</td>\n",
       "      <td>...</td>\n",
       "      <td>f</td>\n",
       "      <td>super_strict_30</td>\n",
       "      <td>f</td>\n",
       "      <td>f</td>\n",
       "      <td>2</td>\n",
       "      <td>2</td>\n",
       "      <td>0</td>\n",
       "      <td>0</td>\n",
       "      <td>0.13</td>\n",
       "      <td>Apartment</td>\n",
       "    </tr>\n",
       "    <tr>\n",
       "      <td>23570</td>\n",
       "      <td>10730</td>\n",
       "      <td>https://www.airbnb.com/rooms/10730</td>\n",
       "      <td>20190922191643</td>\n",
       "      <td>2019-09-22</td>\n",
       "      <td>Bright 1bed facing Golden Dome</td>\n",
       "      <td>Bright, spacious unit, new galley kitchen, new...</td>\n",
       "      <td>Bright one bed facing the golden dome of the S...</td>\n",
       "      <td>Bright, spacious unit, new galley kitchen, new...</td>\n",
       "      <td>none</td>\n",
       "      <td>Beacon Hill is located downtown and is conveni...</td>\n",
       "      <td>...</td>\n",
       "      <td>f</td>\n",
       "      <td>strict_14_with_grace_period</td>\n",
       "      <td>f</td>\n",
       "      <td>f</td>\n",
       "      <td>10</td>\n",
       "      <td>10</td>\n",
       "      <td>0</td>\n",
       "      <td>0</td>\n",
       "      <td>0.25</td>\n",
       "      <td>Apartment</td>\n",
       "    </tr>\n",
       "  </tbody>\n",
       "</table>\n",
       "<p>5 rows × 106 columns</p>\n",
       "</div>"
      ],
      "text/plain": [
       "          id                         listing_url       scrape_id last_scraped  \\\n",
       "23562   3781   https://www.airbnb.com/rooms/3781  20190922191643   2019-09-22   \n",
       "23564   6976   https://www.airbnb.com/rooms/6976  20190922191643   2019-09-22   \n",
       "23566   8789   https://www.airbnb.com/rooms/8789  20190922191643   2019-09-22   \n",
       "23568   9273   https://www.airbnb.com/rooms/9273  20190922191643   2019-09-22   \n",
       "23570  10730  https://www.airbnb.com/rooms/10730  20190922191643   2019-09-22   \n",
       "\n",
       "                                                   name  \\\n",
       "23562                         HARBORSIDE-Walk to subway   \n",
       "23564  Mexican Folk Art Showcase in Boston Neighborhood   \n",
       "23566               Curved Glass Studio/1bd facing Park   \n",
       "23568               Stay at \"HARBORVIEW\" Walk to subway   \n",
       "23570                    Bright 1bed facing Golden Dome   \n",
       "\n",
       "                                                 summary  \\\n",
       "23562  Fully separate apartment in a two apartment bu...   \n",
       "23564  Come stay with me in Boston's Roslindale neigh...   \n",
       "23566  Bright, 1 bed with curved glass windows facing...   \n",
       "23568                                               None   \n",
       "23570  Bright, spacious unit, new galley kitchen, new...   \n",
       "\n",
       "                                                   space  \\\n",
       "23562  This is a totally separate apartment located o...   \n",
       "23564  This is a well-maintained, two-family house bu...   \n",
       "23566  Fully Furnished studio with enclosed bedroom. ...   \n",
       "23568   Available $200.00 per night/seven night minim...   \n",
       "23570  Bright one bed facing the golden dome of the S...   \n",
       "\n",
       "                                             description experiences_offered  \\\n",
       "23562  Fully separate apartment in a two apartment bu...                none   \n",
       "23564  Come stay with me in Boston's Roslindale neigh...                none   \n",
       "23566  Bright, 1 bed with curved glass windows facing...                none   \n",
       "23568   Available $200.00 per night/seven night minim...                none   \n",
       "23570  Bright, spacious unit, new galley kitchen, new...                none   \n",
       "\n",
       "                                   neighborhood_overview  ...  \\\n",
       "23562  Mostly quiet ( no loud music, no crowed sidewa...  ...   \n",
       "23564  The LOCATION: Roslindale is a safe and diverse...  ...   \n",
       "23566  Beacon Hill is a historic neighborhood filled ...  ...   \n",
       "23568                                               None  ...   \n",
       "23570  Beacon Hill is located downtown and is conveni...  ...   \n",
       "\n",
       "      is_business_travel_ready          cancellation_policy  \\\n",
       "23562                        f              super_strict_30   \n",
       "23564                        f                     moderate   \n",
       "23566                        f  strict_14_with_grace_period   \n",
       "23568                        f              super_strict_30   \n",
       "23570                        f  strict_14_with_grace_period   \n",
       "\n",
       "      require_guest_profile_picture require_guest_phone_verification  \\\n",
       "23562                             f                                f   \n",
       "23564                             t                                f   \n",
       "23566                             f                                f   \n",
       "23568                             f                                f   \n",
       "23570                             f                                f   \n",
       "\n",
       "      calculated_host_listings_count  \\\n",
       "23562                              2   \n",
       "23564                              1   \n",
       "23566                             10   \n",
       "23568                              2   \n",
       "23570                             10   \n",
       "\n",
       "      calculated_host_listings_count_entire_homes  \\\n",
       "23562                                           2   \n",
       "23564                                           0   \n",
       "23566                                          10   \n",
       "23568                                           2   \n",
       "23570                                          10   \n",
       "\n",
       "      calculated_host_listings_count_private_rooms  \\\n",
       "23562                                            0   \n",
       "23564                                            1   \n",
       "23566                                            0   \n",
       "23568                                            0   \n",
       "23570                                            0   \n",
       "\n",
       "      calculated_host_listings_count_shared_rooms reviews_per_month  \\\n",
       "23562                                           0              0.29   \n",
       "23564                                           0              0.67   \n",
       "23566                                           0              0.37   \n",
       "23568                                           0              0.13   \n",
       "23570                                           0              0.25   \n",
       "\n",
       "      property_type  \n",
       "23562     Apartment  \n",
       "23564     Apartment  \n",
       "23566     Apartment  \n",
       "23568     Apartment  \n",
       "23570     Apartment  \n",
       "\n",
       "[5 rows x 106 columns]"
      ]
     },
     "execution_count": 17,
     "metadata": {},
     "output_type": "execute_result"
    }
   ],
   "source": [
    "boston.compute().head()"
   ]
  },
  {
   "cell_type": "code",
   "execution_count": 12,
   "metadata": {
    "Collapsed": "false"
   },
   "outputs": [],
   "source": [
    "types_and_hoods = boston[['neighbourhood', 'property_type', 'id']]\\\n",
    "    .groupby(['neighbourhood', 'property_type'])\\\n",
    "    .count()"
   ]
  },
  {
   "cell_type": "markdown",
   "metadata": {
    "Collapsed": "false"
   },
   "source": [
    "Filter out very rare property types where count < 5 (i.e. barns)"
   ]
  },
  {
   "cell_type": "code",
   "execution_count": 13,
   "metadata": {
    "Collapsed": "false"
   },
   "outputs": [],
   "source": [
    "types_and_hoods = types_and_hoods[types_and_hoods.id >= 5]"
   ]
  },
  {
   "cell_type": "code",
   "execution_count": 1,
   "metadata": {
    "Collapsed": "false"
   },
   "outputs": [
    {
     "ename": "NameError",
     "evalue": "name 'types_and_hoods' is not defined",
     "output_type": "error",
     "traceback": [
      "\u001b[0;31m---------------------------------------------------------------------------\u001b[0m",
      "\u001b[0;31mNameError\u001b[0m                                 Traceback (most recent call last)",
      "\u001b[0;32m<ipython-input-1-293439875497>\u001b[0m in \u001b[0;36m<module>\u001b[0;34m\u001b[0m\n\u001b[0;32m----> 1\u001b[0;31m \u001b[0mtypes_and_hoods\u001b[0m\u001b[0;34m.\u001b[0m\u001b[0mcompute\u001b[0m\u001b[0;34m(\u001b[0m\u001b[0;34m)\u001b[0m\u001b[0;34m.\u001b[0m\u001b[0mhead\u001b[0m\u001b[0;34m(\u001b[0m\u001b[0;34m)\u001b[0m\u001b[0;34m\u001b[0m\u001b[0;34m\u001b[0m\u001b[0m\n\u001b[0m",
      "\u001b[0;31mNameError\u001b[0m: name 'types_and_hoods' is not defined"
     ]
    }
   ],
   "source": [
    "types_and_hoods.compute().head()"
   ]
  },
  {
   "cell_type": "code",
   "execution_count": 18,
   "metadata": {
    "Collapsed": "false"
   },
   "outputs": [],
   "source": [
    "toplot = types_and_hoods.compute().unstack()"
   ]
  },
  {
   "cell_type": "code",
   "execution_count": 34,
   "metadata": {
    "Collapsed": "false"
   },
   "outputs": [
    {
     "data": {
      "text/plain": [
       "Text(0.5, 1.0, 'Count of Property Types by Neighborhood')"
      ]
     },
     "execution_count": 34,
     "metadata": {},
     "output_type": "execute_result"
    },
    {
     "data": {
      "image/png": "[encoded data removed]",
      "text/plain": [
       "<Figure size 1008x576 with 1 Axes>"
      ]
     },
     "metadata": {},
     "output_type": "display_data"
    }
   ],
   "source": [
    "ax = toplot.plot(kind='bar', stacked=True)\n",
    "fig = ax.get_figure()\n",
    "plt.legend(loc='upper right', ncol=2)\n",
    "plt.title('Count of Property Types by Neighborhood')"
   ]
  },
  {
   "cell_type": "code",
   "execution_count": 35,
   "metadata": {
    "Collapsed": "false"
   },
   "outputs": [],
   "source": [
    "fig.savefig(\"figs/properties_by_neighbourhood.png\")"
   ]
  },
  {
   "cell_type": "markdown",
   "metadata": {
    "Collapsed": "false"
   },
   "source": [
    "# Reviews Sentiment Analysis"
   ]
  },
  {
   "cell_type": "markdown",
   "metadata": {
    "Collapsed": "false"
   },
   "source": [
    "### Idea:\n",
    "Measure by mean z-score of reviews per word\n",
    "\n",
    "1. Join ratings to reviews on listing id\n",
    "2. Determine mean and standard deviation of ratings\n",
    "3. Calculate the z-score of each review, and assign this value to all words in that review\n",
    "4. Take the mean of the z-scores for each unique word\n",
    "\n",
    "Benefits:\n",
    "Words like \"The\", \"and\", \"apartment\" etc. will be in both positive and negative reviews and will thus have very average mean z-scores, not appearing at the top or bottom"
   ]
  },
  {
   "cell_type": "code",
   "execution_count": null,
   "metadata": {
    "Collapsed": "false"
   },
   "outputs": [],
   "source": [
    "listings.head(5)"
   ]
  },
  {
   "cell_type": "code",
   "execution_count": 7,
   "metadata": {
    "Collapsed": "false"
   },
   "outputs": [],
   "source": [
    "reviews = dd.read_parquet(data_p/'reviews2.parquet')"
   ]
  },
  {
   "cell_type": "code",
   "execution_count": 9,
   "metadata": {
    "Collapsed": "false"
   },
   "outputs": [],
   "source": [
    "review_scores = dd.merge(listings['', reviews, left_on=\"id\", right_on=\"listing_id\")"
   ]
  },
  {
   "cell_type": "code",
   "execution_count": null,
   "metadata": {
    "Collapsed": "false"
   },
   "outputs": [],
   "source": [
    "review_scores['z-score'] = review_scores."
   ]
  }
 ],
 "metadata": {
  "kernelspec": {
   "display_name": "Python 3",
   "language": "python",
   "name": "python3"
  },
  "language_info": {
   "codemirror_mode": {
    "name": "ipython",
    "version": 3
   },
   "file_extension": ".py",
   "mimetype": "text/x-python",
   "name": "python",
   "nbconvert_exporter": "python",
   "pygments_lexer": "ipython3",
   "version": "3.7.4"
  },
  "widgets": {
   "application/vnd.jupyter.widget-state+json": {
    "state": {},
    "version_major": 2,
    "version_minor": 0
   }
  }
 },
 "nbformat": 4,
 "nbformat_minor": 4
}
